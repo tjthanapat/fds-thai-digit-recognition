{
  "cells": [
    {
      "cell_type": "code",
      "execution_count": 2,
      "metadata": {
        "id": "ltJWzzUXw-vI"
      },
      "outputs": [],
      "source": [
        "import matplotlib.pyplot as plt\n",
        "import numpy as np\n",
        "from tensorflow import keras\n",
        "\n",
        "\n"
      ]
    },
    {
      "cell_type": "markdown",
      "metadata": {
        "id": "8MDrt1Cl2KR2"
      },
      "source": [
        "# Load dataset"
      ]
    },
    {
      "cell_type": "code",
      "execution_count": 3,
      "metadata": {
        "id": "Cjy_0QtCcEdp"
      },
      "outputs": [],
      "source": [
        "img_array = np.load('')\n",
        "label_array = np.load('').astype('float64')\n"
      ]
    },
    {
      "cell_type": "markdown",
      "metadata": {
        "id": "2gTtH1A_RWVR"
      },
      "source": [
        "# Split Test and Test"
      ]
    },
    {
      "cell_type": "code",
      "execution_count": 4,
      "metadata": {
        "id": "w69U9GEQb--Q"
      },
      "outputs": [],
      "source": [
        "from sklearn.model_selection import train_test_split\n",
        "\n",
        "train_x, test_x, train_y, test_y = train_test_split(img_array, label_array, test_size=0.2, random_state=7)\n",
        "\n",
        "train_x, val_x, train_y, val_y = train_test_split(train_x, train_y, test_size=0.2, random_state=7, )\n",
        "\n"
      ]
    },
    {
      "cell_type": "markdown",
      "metadata": {
        "id": "o8SNtkujRfOQ"
      },
      "source": [
        "# Model"
      ]
    },
    {
      "cell_type": "code",
      "execution_count": 33,
      "metadata": {
        "id": "PZcn5PXvH7CR"
      },
      "outputs": [],
      "source": [
        "from keras import layers\n",
        "\n",
        "num_classes = 10\n"
      ]
    },
    {
      "cell_type": "code",
      "execution_count": 79,
      "metadata": {
        "colab": {
          "base_uri": "https://localhost:8080/"
        },
        "id": "28ymoXvne6qu",
        "outputId": "524e08a5-fd8e-4a0d-dada-016599ad711c"
      },
      "outputs": [
        {
          "name": "stdout",
          "output_type": "stream",
          "text": [
            "Downloading data from https://storage.googleapis.com/tensorflow/keras-applications/densenet/densenet121_weights_tf_dim_ordering_tf_kernels_notop.h5\n",
            "29089792/29084464 [==============================] - 1s 0us/step\n",
            "29097984/29084464 [==============================] - 1s 0us/step\n"
          ]
        }
      ],
      "source": [
        "#EfficientNetV2B1, MobileNet, DenseNet121\n",
        "\n",
        "base_model = keras.applications.DenseNet121(weights='imagenet', include_top=False, input_shape=(224, 224,3))\n",
        "\n",
        "x = base_model.output\n",
        "x = layers.GlobalAveragePooling2D()(x)\n",
        "x = layers.Dense(128, activation='relu')(x)\n",
        "predictions = layers.Dense(10, activation='softmax')(x)\n",
        "\n",
        "model = keras.models.Model(inputs=base_model.input, outputs=predictions)"
      ]
    },
    {
      "cell_type": "markdown",
      "metadata": {
        "id": "qAKySiv1RlRk"
      },
      "source": [
        "# Train Model"
      ]
    },
    {
      "cell_type": "code",
      "execution_count": 80,
      "metadata": {
        "colab": {
          "base_uri": "https://localhost:8080/"
        },
        "id": "HZCsrmrFMd57",
        "outputId": "3f3ea83d-cf53-49c0-f07b-721dfb7d2295"
      },
      "outputs": [
        {
          "name": "stdout",
          "output_type": "stream",
          "text": [
            "Epoch 1/10\n"
          ]
        },
        {
          "name": "stderr",
          "output_type": "stream",
          "text": [
            "/usr/local/lib/python3.7/dist-packages/tensorflow/python/util/dispatch.py:1082: UserWarning: \"`sparse_categorical_crossentropy` received `from_logits=True`, but the `output` argument was produced by a sigmoid or softmax activation and thus does not represent logits. Was this intended?\"\n",
            "  return dispatch_target(*args, **kwargs)\n"
          ]
        },
        {
          "name": "stdout",
          "output_type": "stream",
          "text": [
            "35/35 [==============================] - 53s 1s/step - loss: 0.5536 - accuracy: 0.8275 - val_loss: 5.0843 - val_accuracy: 0.4071\n",
            "Epoch 2/10\n",
            "35/35 [==============================] - 29s 819ms/step - loss: 0.1817 - accuracy: 0.9455 - val_loss: 9.3526 - val_accuracy: 0.3357\n",
            "Epoch 3/10\n",
            "35/35 [==============================] - 29s 818ms/step - loss: 0.1235 - accuracy: 0.9607 - val_loss: 5.2605 - val_accuracy: 0.5536\n",
            "Epoch 4/10\n",
            "35/35 [==============================] - 29s 820ms/step - loss: 0.0635 - accuracy: 0.9768 - val_loss: 2.3167 - val_accuracy: 0.6607\n",
            "Epoch 5/10\n",
            "35/35 [==============================] - 29s 819ms/step - loss: 0.0479 - accuracy: 0.9848 - val_loss: 9.1338 - val_accuracy: 0.2071\n",
            "Epoch 6/10\n",
            "35/35 [==============================] - 29s 820ms/step - loss: 0.0745 - accuracy: 0.9768 - val_loss: 12.4352 - val_accuracy: 0.2536\n",
            "Epoch 7/10\n",
            "35/35 [==============================] - 29s 819ms/step - loss: 0.0501 - accuracy: 0.9857 - val_loss: 0.9912 - val_accuracy: 0.8821\n",
            "Epoch 8/10\n",
            "35/35 [==============================] - 29s 819ms/step - loss: 0.0897 - accuracy: 0.9732 - val_loss: 5.2155 - val_accuracy: 0.4536\n",
            "Epoch 9/10\n",
            "35/35 [==============================] - 29s 819ms/step - loss: 0.0509 - accuracy: 0.9821 - val_loss: 0.9678 - val_accuracy: 0.8393\n",
            "Epoch 10/10\n",
            "35/35 [==============================] - 29s 820ms/step - loss: 0.0558 - accuracy: 0.9839 - val_loss: 0.5356 - val_accuracy: 0.8750\n"
          ]
        },
        {
          "data": {
            "text/plain": [
              "<keras.callbacks.History at 0x7fcf93cb2f10>"
            ]
          },
          "execution_count": 80,
          "metadata": {},
          "output_type": "execute_result"
        }
      ],
      "source": [
        "epochs = 10\n",
        "callbacks = [\n",
        "    keras.callbacks.ModelCheckpoint(\"save_at_{epoch}.h5\"),\n",
        "]\n",
        "\n",
        "model.compile(optimizer='adam',\n",
        "              loss=keras.losses.SparseCategoricalCrossentropy(from_logits=True),\n",
        "              metrics=['accuracy'])\n",
        "model.fit(\n",
        "    train_x, train_y, epochs=epochs, callbacks=callbacks, validation_data=(val_x, val_y))\n"
      ]
    },
    {
      "cell_type": "markdown",
      "metadata": {
        "id": "kSi_X1BhSkb0"
      },
      "source": [
        "# Test"
      ]
    },
    {
      "cell_type": "code",
      "execution_count": 83,
      "metadata": {
        "id": "egC2bJPYiTY9"
      },
      "outputs": [],
      "source": [
        "pred = model.predict(test_x)\n",
        "pred = np.argmax(pred, axis=1)\n",
        "\n"
      ]
    },
    {
      "cell_type": "code",
      "execution_count": 84,
      "metadata": {
        "colab": {
          "base_uri": "https://localhost:8080/"
        },
        "id": "QikRbSQuIDx8",
        "outputId": "78d29bae-8ee2-49dd-d6c9-660ae3ad0a85"
      },
      "outputs": [
        {
          "name": "stdout",
          "output_type": "stream",
          "text": [
            "0.8371428571428572\n"
          ]
        }
      ],
      "source": [
        "from sklearn.metrics import accuracy_score\n",
        "\n",
        "score= accuracy_score(test_y, pred)\n",
        "print(score)\n",
        "\n"
      ]
    },
    {
      "cell_type": "code",
      "execution_count": 85,
      "metadata": {
        "colab": {
          "base_uri": "https://localhost:8080/",
          "height": 279
        },
        "id": "uDYiP1oviv9Z",
        "outputId": "5a748e1f-6758-4161-a676-57f68651c5b0"
      },
      "outputs": [
        {
          "data": {
            "image/png": "[encoded data removed]",
            "text/plain": [
              "<Figure size 432x288 with 2 Axes>"
            ]
          },
          "metadata": {
            "needs_background": "light"
          },
          "output_type": "display_data"
        }
      ],
      "source": [
        "from sklearn.metrics import confusion_matrix, ConfusionMatrixDisplay\n",
        "\n",
        "cm = confusion_matrix(test_y, pred)\n",
        "disp_cm = ConfusionMatrixDisplay(confusion_matrix=cm)\n",
        "\n",
        "disp_cm.plot()\n",
        "plt.show()\n",
        "\n"
      ]
    },
    {
      "cell_type": "code",
      "execution_count": 85,
      "metadata": {
        "id": "YEl36LxL-n4r"
      },
      "outputs": [],
      "source": []
    }
  ],
  "metadata": {
    "accelerator": "GPU",
    "colab": {
      "collapsed_sections": [],
      "name": "FDS.ipynb",
      "provenance": []
    },
    "kernelspec": {
      "display_name": "Python 3",
      "name": "python3"
    },
    "language_info": {
      "name": "python"
    }
  },
  "nbformat": 4,
  "nbformat_minor": 0
}
